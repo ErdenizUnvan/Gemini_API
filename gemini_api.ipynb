{
  "cells": [
    {
      "cell_type": "code",
      "source": [
        "#Gemini API KEY almak icin:\n",
        "#https://makersuite.google.com/app/apikey\n",
        "#Create API KEY in new project\n",
        "#Create API KEY in existing project\n",
        "#seceneklerinden birini sec\n",
        "#API KEY onaylanmasi 5 dakikaya kadar surebilir."
      ],
      "metadata": {
        "id": "ro3lg4zgrq-7"
      },
      "execution_count": null,
      "outputs": []
    },
    {
      "cell_type": "code",
      "source": [
        "!pip install cohere"
      ],
      "metadata": {
        "colab": {
          "base_uri": "https://localhost:8080/"
        },
        "id": "6065n4W7QL37",
        "outputId": "00d5f876-5093-46f2-cf94-fc5d84ccb568"
      },
      "execution_count": 1,
      "outputs": [
        {
          "output_type": "stream",
          "name": "stdout",
          "text": [
            "Requirement already satisfied: cohere in /usr/local/lib/python3.10/dist-packages (4.38)\n",
            "Requirement already satisfied: aiohttp<4.0,>=3.0 in /usr/local/lib/python3.10/dist-packages (from cohere) (3.9.1)\n",
            "Requirement already satisfied: backoff<3.0,>=2.0 in /usr/local/lib/python3.10/dist-packages (from cohere) (2.2.1)\n",
            "Requirement already satisfied: fastavro<2.0,>=1.8 in /usr/local/lib/python3.10/dist-packages (from cohere) (1.9.1)\n",
            "Requirement already satisfied: importlib_metadata<7.0,>=6.0 in /usr/local/lib/python3.10/dist-packages (from cohere) (6.11.0)\n",
            "Requirement already satisfied: requests<3.0.0,>=2.25.0 in /usr/local/lib/python3.10/dist-packages (from cohere) (2.31.0)\n",
            "Requirement already satisfied: urllib3<3,>=1.26 in /usr/local/lib/python3.10/dist-packages (from cohere) (2.0.7)\n",
            "Requirement already satisfied: attrs>=17.3.0 in /usr/local/lib/python3.10/dist-packages (from aiohttp<4.0,>=3.0->cohere) (23.1.0)\n",
            "Requirement already satisfied: multidict<7.0,>=4.5 in /usr/local/lib/python3.10/dist-packages (from aiohttp<4.0,>=3.0->cohere) (6.0.4)\n",
            "Requirement already satisfied: yarl<2.0,>=1.0 in /usr/local/lib/python3.10/dist-packages (from aiohttp<4.0,>=3.0->cohere) (1.9.3)\n",
            "Requirement already satisfied: frozenlist>=1.1.1 in /usr/local/lib/python3.10/dist-packages (from aiohttp<4.0,>=3.0->cohere) (1.4.0)\n",
            "Requirement already satisfied: aiosignal>=1.1.2 in /usr/local/lib/python3.10/dist-packages (from aiohttp<4.0,>=3.0->cohere) (1.3.1)\n",
            "Requirement already satisfied: async-timeout<5.0,>=4.0 in /usr/local/lib/python3.10/dist-packages (from aiohttp<4.0,>=3.0->cohere) (4.0.3)\n",
            "Requirement already satisfied: zipp>=0.5 in /usr/local/lib/python3.10/dist-packages (from importlib_metadata<7.0,>=6.0->cohere) (3.17.0)\n",
            "Requirement already satisfied: charset-normalizer<4,>=2 in /usr/local/lib/python3.10/dist-packages (from requests<3.0.0,>=2.25.0->cohere) (3.3.2)\n",
            "Requirement already satisfied: idna<4,>=2.5 in /usr/local/lib/python3.10/dist-packages (from requests<3.0.0,>=2.25.0->cohere) (3.6)\n",
            "Requirement already satisfied: certifi>=2017.4.17 in /usr/local/lib/python3.10/dist-packages (from requests<3.0.0,>=2.25.0->cohere) (2023.11.17)\n"
          ]
        }
      ]
    },
    {
      "cell_type": "code",
      "source": [
        "!pip install google-generativeai"
      ],
      "metadata": {
        "colab": {
          "base_uri": "https://localhost:8080/"
        },
        "id": "0KAC4pSToO_T",
        "outputId": "5919dff9-6f5f-40f7-b52a-df261e8165dc"
      },
      "execution_count": 2,
      "outputs": [
        {
          "output_type": "stream",
          "name": "stdout",
          "text": [
            "Requirement already satisfied: google-generativeai in /usr/local/lib/python3.10/dist-packages (0.3.1)\n",
            "Requirement already satisfied: google-ai-generativelanguage==0.4.0 in /usr/local/lib/python3.10/dist-packages (from google-generativeai) (0.4.0)\n",
            "Requirement already satisfied: google-auth in /usr/local/lib/python3.10/dist-packages (from google-generativeai) (2.17.3)\n",
            "Requirement already satisfied: google-api-core in /usr/local/lib/python3.10/dist-packages (from google-generativeai) (2.11.1)\n",
            "Requirement already satisfied: protobuf in /usr/local/lib/python3.10/dist-packages (from google-generativeai) (3.20.3)\n",
            "Requirement already satisfied: tqdm in /usr/local/lib/python3.10/dist-packages (from google-generativeai) (4.66.1)\n",
            "Requirement already satisfied: proto-plus<2.0.0dev,>=1.22.3 in /usr/local/lib/python3.10/dist-packages (from google-ai-generativelanguage==0.4.0->google-generativeai) (1.22.3)\n",
            "Requirement already satisfied: googleapis-common-protos<2.0.dev0,>=1.56.2 in /usr/local/lib/python3.10/dist-packages (from google-api-core->google-generativeai) (1.61.0)\n",
            "Requirement already satisfied: requests<3.0.0.dev0,>=2.18.0 in /usr/local/lib/python3.10/dist-packages (from google-api-core->google-generativeai) (2.31.0)\n",
            "Requirement already satisfied: cachetools<6.0,>=2.0.0 in /usr/local/lib/python3.10/dist-packages (from google-auth->google-generativeai) (5.3.2)\n",
            "Requirement already satisfied: pyasn1-modules>=0.2.1 in /usr/local/lib/python3.10/dist-packages (from google-auth->google-generativeai) (0.3.0)\n",
            "Requirement already satisfied: six>=1.9.0 in /usr/local/lib/python3.10/dist-packages (from google-auth->google-generativeai) (1.16.0)\n",
            "Requirement already satisfied: rsa<5,>=3.1.4 in /usr/local/lib/python3.10/dist-packages (from google-auth->google-generativeai) (4.9)\n",
            "Requirement already satisfied: grpcio<2.0dev,>=1.33.2 in /usr/local/lib/python3.10/dist-packages (from google-api-core->google-generativeai) (1.59.3)\n",
            "Requirement already satisfied: grpcio-status<2.0.dev0,>=1.33.2 in /usr/local/lib/python3.10/dist-packages (from google-api-core->google-generativeai) (1.48.2)\n",
            "Requirement already satisfied: pyasn1<0.6.0,>=0.4.6 in /usr/local/lib/python3.10/dist-packages (from pyasn1-modules>=0.2.1->google-auth->google-generativeai) (0.5.1)\n",
            "Requirement already satisfied: charset-normalizer<4,>=2 in /usr/local/lib/python3.10/dist-packages (from requests<3.0.0.dev0,>=2.18.0->google-api-core->google-generativeai) (3.3.2)\n",
            "Requirement already satisfied: idna<4,>=2.5 in /usr/local/lib/python3.10/dist-packages (from requests<3.0.0.dev0,>=2.18.0->google-api-core->google-generativeai) (3.6)\n",
            "Requirement already satisfied: urllib3<3,>=1.21.1 in /usr/local/lib/python3.10/dist-packages (from requests<3.0.0.dev0,>=2.18.0->google-api-core->google-generativeai) (2.0.7)\n",
            "Requirement already satisfied: certifi>=2017.4.17 in /usr/local/lib/python3.10/dist-packages (from requests<3.0.0.dev0,>=2.18.0->google-api-core->google-generativeai) (2023.11.17)\n"
          ]
        }
      ]
    },
    {
      "cell_type": "code",
      "source": [
        "!pip install google-generativeai --upgrade\n",
        "#Successfully installed google-ai-generativelanguage-0.4.0 google-generativeai-0.3.1\n",
        "#google_generativeai-0.3.1\n",
        "#google_ai_generativelanguage-0.4.0\n",
        "#versiyon bu olacak.\n",
        "#bunun alti calismaz GenerativeModel class"
      ],
      "metadata": {
        "colab": {
          "base_uri": "https://localhost:8080/"
        },
        "id": "lsvXcNmARi7y",
        "outputId": "ccb2c580-d6ba-47e0-de4d-235979675c52"
      },
      "execution_count": 3,
      "outputs": [
        {
          "output_type": "stream",
          "name": "stdout",
          "text": [
            "Requirement already satisfied: google-generativeai in /usr/local/lib/python3.10/dist-packages (0.3.1)\n",
            "Requirement already satisfied: google-ai-generativelanguage==0.4.0 in /usr/local/lib/python3.10/dist-packages (from google-generativeai) (0.4.0)\n",
            "Requirement already satisfied: google-auth in /usr/local/lib/python3.10/dist-packages (from google-generativeai) (2.17.3)\n",
            "Requirement already satisfied: google-api-core in /usr/local/lib/python3.10/dist-packages (from google-generativeai) (2.11.1)\n",
            "Requirement already satisfied: protobuf in /usr/local/lib/python3.10/dist-packages (from google-generativeai) (3.20.3)\n",
            "Requirement already satisfied: tqdm in /usr/local/lib/python3.10/dist-packages (from google-generativeai) (4.66.1)\n",
            "Requirement already satisfied: proto-plus<2.0.0dev,>=1.22.3 in /usr/local/lib/python3.10/dist-packages (from google-ai-generativelanguage==0.4.0->google-generativeai) (1.22.3)\n",
            "Requirement already satisfied: googleapis-common-protos<2.0.dev0,>=1.56.2 in /usr/local/lib/python3.10/dist-packages (from google-api-core->google-generativeai) (1.61.0)\n",
            "Requirement already satisfied: requests<3.0.0.dev0,>=2.18.0 in /usr/local/lib/python3.10/dist-packages (from google-api-core->google-generativeai) (2.31.0)\n",
            "Requirement already satisfied: cachetools<6.0,>=2.0.0 in /usr/local/lib/python3.10/dist-packages (from google-auth->google-generativeai) (5.3.2)\n",
            "Requirement already satisfied: pyasn1-modules>=0.2.1 in /usr/local/lib/python3.10/dist-packages (from google-auth->google-generativeai) (0.3.0)\n",
            "Requirement already satisfied: six>=1.9.0 in /usr/local/lib/python3.10/dist-packages (from google-auth->google-generativeai) (1.16.0)\n",
            "Requirement already satisfied: rsa<5,>=3.1.4 in /usr/local/lib/python3.10/dist-packages (from google-auth->google-generativeai) (4.9)\n",
            "Requirement already satisfied: grpcio<2.0dev,>=1.33.2 in /usr/local/lib/python3.10/dist-packages (from google-api-core->google-generativeai) (1.59.3)\n",
            "Requirement already satisfied: grpcio-status<2.0.dev0,>=1.33.2 in /usr/local/lib/python3.10/dist-packages (from google-api-core->google-generativeai) (1.48.2)\n",
            "Requirement already satisfied: pyasn1<0.6.0,>=0.4.6 in /usr/local/lib/python3.10/dist-packages (from pyasn1-modules>=0.2.1->google-auth->google-generativeai) (0.5.1)\n",
            "Requirement already satisfied: charset-normalizer<4,>=2 in /usr/local/lib/python3.10/dist-packages (from requests<3.0.0.dev0,>=2.18.0->google-api-core->google-generativeai) (3.3.2)\n",
            "Requirement already satisfied: idna<4,>=2.5 in /usr/local/lib/python3.10/dist-packages (from requests<3.0.0.dev0,>=2.18.0->google-api-core->google-generativeai) (3.6)\n",
            "Requirement already satisfied: urllib3<3,>=1.21.1 in /usr/local/lib/python3.10/dist-packages (from requests<3.0.0.dev0,>=2.18.0->google-api-core->google-generativeai) (2.0.7)\n",
            "Requirement already satisfied: certifi>=2017.4.17 in /usr/local/lib/python3.10/dist-packages (from requests<3.0.0.dev0,>=2.18.0->google-api-core->google-generativeai) (2023.11.17)\n"
          ]
        }
      ]
    },
    {
      "cell_type": "code",
      "source": [
        "!pip show google_generativeai"
      ],
      "metadata": {
        "colab": {
          "base_uri": "https://localhost:8080/"
        },
        "id": "hGh5RpnuSn6L",
        "outputId": "96c2d1cf-6a2d-4b8c-8b7d-772a2de90b06"
      },
      "execution_count": 4,
      "outputs": [
        {
          "output_type": "stream",
          "name": "stdout",
          "text": [
            "Name: google-generativeai\n",
            "Version: 0.3.1\n",
            "Summary: Google Generative AI High level API client library and tools.\n",
            "Home-page: https://github.com/google/generative-ai-python\n",
            "Author: Google LLC\n",
            "Author-email: googleapis-packages@google.com\n",
            "License: Apache 2.0\n",
            "Location: /usr/local/lib/python3.10/dist-packages\n",
            "Requires: google-ai-generativelanguage, google-api-core, google-auth, protobuf, tqdm\n",
            "Required-by: \n"
          ]
        }
      ]
    },
    {
      "cell_type": "code",
      "source": [
        "!pip show google_ai_generativelanguage"
      ],
      "metadata": {
        "colab": {
          "base_uri": "https://localhost:8080/"
        },
        "id": "eScT_pGTSo3w",
        "outputId": "b3ed2d6f-046f-4482-ed67-05511df01af4"
      },
      "execution_count": 5,
      "outputs": [
        {
          "output_type": "stream",
          "name": "stdout",
          "text": [
            "Name: google-ai-generativelanguage\n",
            "Version: 0.4.0\n",
            "Summary: Google Ai Generativelanguage API client library\n",
            "Home-page: https://github.com/googleapis/google-cloud-python/tree/main/packages/google-ai-generativelanguage\n",
            "Author: Google LLC\n",
            "Author-email: googleapis-packages@google.com\n",
            "License: Apache 2.0\n",
            "Location: /usr/local/lib/python3.10/dist-packages\n",
            "Requires: google-api-core, proto-plus, protobuf\n",
            "Required-by: google-generativeai\n"
          ]
        }
      ]
    },
    {
      "cell_type": "code",
      "source": [
        "#!pip install google-generativeai\n",
        "import google.generativeai as genai\n",
        "\n",
        "genai.configure(api_key=\"\")"
      ],
      "metadata": {
        "id": "aojVWjteoPBb"
      },
      "execution_count": 6,
      "outputs": []
    },
    {
      "cell_type": "code",
      "source": [
        "generation_config = {\n",
        "  \"temperature\": 0.9,\n",
        "  \"top_p\": 1,\n",
        "  \"top_k\": 1,\n",
        "  \"max_output_tokens\": 2048,\n",
        "}\n",
        "\n",
        "safety_settings = [\n",
        "  {\n",
        "    \"category\": \"HARM_CATEGORY_HARASSMENT\",\n",
        "    \"threshold\": \"BLOCK_MEDIUM_AND_ABOVE\"\n",
        "  },\n",
        "  {\n",
        "    \"category\": \"HARM_CATEGORY_HATE_SPEECH\",\n",
        "    \"threshold\": \"BLOCK_MEDIUM_AND_ABOVE\"\n",
        "  },\n",
        "  {\n",
        "    \"category\": \"HARM_CATEGORY_SEXUALLY_EXPLICIT\",\n",
        "    \"threshold\": \"BLOCK_MEDIUM_AND_ABOVE\"\n",
        "  },\n",
        "  {\n",
        "    \"category\": \"HARM_CATEGORY_DANGEROUS_CONTENT\",\n",
        "    \"threshold\": \"BLOCK_MEDIUM_AND_ABOVE\"\n",
        "  }\n",
        "]\n",
        "\n",
        "model = genai.GenerativeModel(model_name=\"gemini-pro\",\n",
        "                              generation_config=generation_config,\n",
        "                              safety_settings=safety_settings)\n",
        "\n",
        "prompt_parts = [\n",
        "  \"What is the meaning of life?\",\n",
        "]\n",
        "\n",
        "response = model.generate_content(prompt_parts)\n",
        "print(response.text)"
      ],
      "metadata": {
        "colab": {
          "base_uri": "https://localhost:8080/",
          "height": 297
        },
        "id": "pc_9OduKoPD6",
        "outputId": "c0021750-587e-4cd7-d906-223ba5a0deef"
      },
      "execution_count": 7,
      "outputs": [
        {
          "output_type": "stream",
          "name": "stdout",
          "text": [
            "The meaning of life is a philosophical question that has been pondered by humans for thousands of years, and there is no one definitive answer that is universally accepted. However, some common themes that emerge in discussions of the meaning of life include:\n",
            "\n",
            "1. **Purpose and Fulfillment:** Many people believe that the meaning of life is to find a sense of purpose and fulfillment through their actions and experiences. This can involve setting goals, pursuing passions, contributing to society, or leaving a lasting legacy.\n",
            "\n",
            "2. **Happiness and Well-being:** For some, the meaning of life is to achieve happiness and well-being for themselves and others. This can involve cultivating positive emotions, building meaningful relationships, and living a life that aligns with their values and beliefs.\n",
            "\n",
            "3. **Connection and Love:** Many people find meaning in life through their connections with others, whether it be through family, friends, romantic relationships, or a sense of community. Love and compassion are often seen as powerful sources of meaning and purpose.\n",
            "\n",
            "4. **Growth and Learning:** Some people believe that the meaning of life is to grow and learn as individuals. This can involve seeking knowledge, exploring new experiences, and challenging oneself to become a better person.\n",
            "\n",
            "5. **Contribution to Society:** For others, the meaning of life lies in making a positive contribution to society. This can involve working to solve social problems, volunteering, or simply being kind and helpful to those around them.\n",
            "\n",
            "6. **Spiritual or Religious Fulfillment:** For many people, the meaning of life is found through spiritual or religious beliefs. This can involve following religious practices, connecting with a higher power, or seeking enlightenment or salvation.\n",
            "\n",
            "It's important to note that the meaning of life is a deeply personal and subjective matter, and what is meaningful to one person may not be meaningful to another. Additionally, the meaning of life can change over time as individuals grow and evolve. Ultimately, it is up to each individual to explore and define what gives their life meaning and purpose.\n"
          ]
        }
      ]
    },
    {
      "cell_type": "code",
      "source": [
        "import os\n",
        "os.getcwd()"
      ],
      "metadata": {
        "colab": {
          "base_uri": "https://localhost:8080/",
          "height": 35
        },
        "id": "kiKvB-J9qj37",
        "outputId": "4727b9a5-1f4f-4de2-ecea-473a7be0dba8"
      },
      "execution_count": 8,
      "outputs": [
        {
          "output_type": "execute_result",
          "data": {
            "text/plain": [
              "'/content'"
            ],
            "application/vnd.google.colaboratory.intrinsic+json": {
              "type": "string"
            }
          },
          "metadata": {},
          "execution_count": 8
        }
      ]
    },
    {
      "cell_type": "code",
      "source": [
        "os.listdir()"
      ],
      "metadata": {
        "colab": {
          "base_uri": "https://localhost:8080/"
        },
        "id": "bUtKb0Mdqmrq",
        "outputId": "ba18d4c5-0393-45e3-cc1f-2221ca850333"
      },
      "execution_count": 9,
      "outputs": [
        {
          "output_type": "execute_result",
          "data": {
            "text/plain": [
              "['.config', 'kc_nso_topology_updated.PNG', '.ipynb_checkpoints', 'sample_data']"
            ]
          },
          "metadata": {},
          "execution_count": 9
        }
      ]
    },
    {
      "cell_type": "code",
      "source": [
        "#!pip install google-generativeai\n",
        "from pathlib import Path\n",
        "import google.generativeai as genai\n",
        "\n",
        "genai.configure(api_key=\"\")\n",
        "\n",
        "# Set up the model\n",
        "generation_config = {\n",
        "  \"temperature\": 0.4,\n",
        "  \"top_p\": 1,\n",
        "  \"top_k\": 32,\n",
        "  \"max_output_tokens\": 4096,\n",
        "}\n",
        "\n",
        "safety_settings = [\n",
        "  {\n",
        "    \"category\": \"HARM_CATEGORY_HARASSMENT\",\n",
        "    \"threshold\": \"BLOCK_MEDIUM_AND_ABOVE\"\n",
        "  },\n",
        "  {\n",
        "    \"category\": \"HARM_CATEGORY_HATE_SPEECH\",\n",
        "    \"threshold\": \"BLOCK_MEDIUM_AND_ABOVE\"\n",
        "  },\n",
        "  {\n",
        "    \"category\": \"HARM_CATEGORY_SEXUALLY_EXPLICIT\",\n",
        "    \"threshold\": \"BLOCK_MEDIUM_AND_ABOVE\"\n",
        "  },\n",
        "  {\n",
        "    \"category\": \"HARM_CATEGORY_DANGEROUS_CONTENT\",\n",
        "    \"threshold\": \"BLOCK_MEDIUM_AND_ABOVE\"\n",
        "  }\n",
        "]\n",
        "\n",
        "model = genai.GenerativeModel(model_name=\"gemini-pro-vision\",\n",
        "                              generation_config=generation_config,\n",
        "                              safety_settings=safety_settings)\n",
        "\n",
        "# Validate that an image is present\n",
        "if not (img := Path(\"kc_nso_topology_updated.PNG\")).exists():\n",
        "  raise FileNotFoundError(f\"Could not find image: {img}\")\n",
        "\n",
        "image_parts = [\n",
        "  {\n",
        "    \"mime_type\": \"image/png\",\n",
        "    \"data\": Path(\"kc_nso_topology_updated.PNG\").read_bytes()\n",
        "  },\n",
        "]\n",
        "\n",
        "prompt_parts = [\n",
        "  image_parts[0],\n",
        "  \"\\nexplain the network topology in details by text including all info such as ip addres, loopbacks, vlans \\nand how devices are connected to each other via which ports\",\n",
        "]\n",
        "\n",
        "response = model.generate_content(prompt_parts)\n",
        "print(response.text)"
      ],
      "metadata": {
        "colab": {
          "base_uri": "https://localhost:8080/",
          "height": 1000
        },
        "id": "P0j-0BvYoPGC",
        "outputId": "d8cb6c10-40c7-4a43-8ed0-ba13582e7d9a"
      },
      "execution_count": 10,
      "outputs": [
        {
          "output_type": "stream",
          "name": "stdout",
          "text": [
            " The network topology consists of a single WAN router (WR1), two core switches (CS01 and CS02), an access switch (AS01), and two servers. The WAN router is connected to the Internet via a WAN port and to the core switches via two LAN ports. The core switches are connected to each other via two trunk ports and to the access switch via two trunk ports. The access switch is connected to the servers via two access ports.\n",
            "\n",
            "The network is divided into three VLANs: VLAN 100 for data traffic, VLAN 200 for voice traffic, and VLAN 300 for management traffic. The core switches are configured with a VTP domain and are used to propagate VLAN information throughout the network. The access switch is configured with a trunk port that allows all VLANs to pass through. The servers are configured with static IP addresses and are assigned to the appropriate VLANs.\n",
            "\n",
            "The following is a detailed list of the IP addresses and loopbacks configured on each device:\n",
            "\n",
            "**WAN ROUTER (WR1)**\n",
            "- IP Address: 10.2.100.1/24\n",
            "- Loopback: 10.4.100.1/32\n",
            "\n",
            "**CORE SWITCH 1 (CS01)**\n",
            "- IP Address: 192.168.101.1/24\n",
            "- Loopback: 10.1.100.1/32\n",
            "- Vlan100: 192.168.100.1/24\n",
            "- Vlan200: 192.168.200.1/24\n",
            "- Vlan300: 192.168.300.1/24\n",
            "\n",
            "**CORE SWITCH 2 (CS02)**\n",
            "- IP Address: 192.168.101.2/24\n",
            "- Loopback: 10.1.100.2/32\n",
            "- Vlan100: 192.168.100.2/24\n",
            "- Vlan200: 192.168.200.2/24\n",
            "- Vlan300: 192.168.300.2/24\n",
            "\n",
            "**ACCESS SWITCH (AS01)**\n",
            "- IP Address: 192.168.101.3/24\n",
            "- Loopback: 10.1.100.3/32\n",
            "- Vlan100: 192.168.100.3/24\n",
            "- Vlan200: 192.168.200.3/24\n",
            "- Vlan300: 192.168.300.3/24\n",
            "\n",
            "**SERVER 1**\n",
            "- IP Address: 10.1.200.2/24\n",
            "\n",
            "**SERVER 2**\n",
            "- IP Address: 10.1.200.3/24\n",
            "\n",
            "The devices are connected to each other via the following ports:\n",
            "\n",
            "**WAN ROUTER (WR1)**\n",
            "- WAN port: Connected to the Internet\n",
            "- LAN port 1: Connected to Core Switch 1 (CS01)\n",
            "- LAN port 2: Connected to Core Switch 2 (CS02)\n",
            "\n",
            "**CORE SWITCH 1 (CS01)**\n",
            "- Port 1: Connected to WAN Router (WR1)\n",
            "- Port 2: Connected to Core Switch 2 (CS02)\n",
            "- Port 3: Connected to Access Switch (AS01)\n",
            "- Port 4: Connected to Server 1\n",
            "\n",
            "**CORE SWITCH 2 (CS02)**\n",
            "- Port 1: Connected to WAN Router (WR1)\n",
            "- Port 2: Connected to Core Switch 1 (CS01)\n",
            "- Port 3: Connected to Access Switch (AS01)\n",
            "- Port 4: Connected to Server 2\n",
            "\n",
            "**ACCESS SWITCH (AS01)**\n",
            "- Port 1: Connected to Core Switch 1 (CS01)\n",
            "- Port 2: Connected to Core Switch 2 (CS02)\n",
            "- Port 3: Connected to User Computer\n",
            "- Port 4: Connected to Guest Computer\n"
          ]
        }
      ]
    },
    {
      "cell_type": "code",
      "source": [],
      "metadata": {
        "id": "E7cyhWyBoPIT"
      },
      "execution_count": null,
      "outputs": []
    },
    {
      "cell_type": "code",
      "source": [],
      "metadata": {
        "id": "lsK_pLxvoPKi"
      },
      "execution_count": null,
      "outputs": []
    },
    {
      "cell_type": "code",
      "source": [],
      "metadata": {
        "id": "GyS2_1VFoPM7"
      },
      "execution_count": null,
      "outputs": []
    }
  ],
  "metadata": {
    "colab": {
      "provenance": []
    },
    "kernelspec": {
      "display_name": "Python 3",
      "name": "python3"
    }
  },
  "nbformat": 4,
  "nbformat_minor": 0
}